{
 "cells": [
  {
   "cell_type": "raw",
   "id": "33dd6c4c",
   "metadata": {},
   "source": [
    "---\n",
    "title: \"Project Code\"\n",
    "subtitle: DAK\n",
    "author: Davis Johnson, Kaitlin Sun, Andy Wen \n",
    "date: 02/27/2023\n",
    "number-sections: true\n",
    "abstract: _This file contains the code for the project on credit card default probability, as part of the STAT303-2 course in Winter 2023_.\n",
    "format: \n",
    "  html:\n",
    "    toc: true\n",
    "    toc-title: Contents\n",
    "    self-contained: true\n",
    "    font-size: 100%\n",
    "    toc-depth: 4\n",
    "    mainfont: serif\n",
    "jupyter: python3\n",
    "---"
   ]
  },
  {
   "cell_type": "code",
   "execution_count": 1,
   "id": "93c1d304",
   "metadata": {},
   "outputs": [],
   "source": [
    "import pandas as pd\n",
    "import numpy as np\n",
    "import matplotlib.pyplot as plt\n",
    "import seaborn as sns\n",
    "%matplotlib inline\n",
    "import statsmodels.api as sm\n",
    "import statsmodels.formula.api as smf\n",
    "import plotly.express as px\n",
    "import itertools\n",
    "import time\n",
    "from sklearn.linear_model import Ridge, RidgeCV, Lasso, LassoCV\n",
    "from sklearn.metrics import roc_curve, auc"
   ]
  },
  {
   "cell_type": "code",
   "execution_count": 4,
   "id": "000effba",
   "metadata": {},
   "outputs": [],
   "source": [
    "original_df = pd.read_csv('default of credit card clients.csv')\n",
    "data = original_df.copy()"
   ]
  },
  {
   "cell_type": "markdown",
   "id": "fe7ea9bb",
   "metadata": {},
   "source": [
    "## Data Cleaning and Preparation\n",
    "\n"
   ]
  },
  {
   "cell_type": "markdown",
   "id": "d1561829",
   "metadata": {},
   "source": [
    "### Data cleaning\n",
    "*By Davis Johnson*\n",
    "\n",
    "An intial view of the dataset suggests that:\n",
    "\n",
    "1. The columns have been loaded in as the first row of the dataset and in capitalized letters. Both need to be fixed in order to help with the data's readability. Additionally, some columns needed to be renamed for clarity purposes. This mostly included renaming columns to include the month they were associated with.\n",
    "\n",
    "2. An analysis of the values for the categorical columns (like education and marriage) revealed they contained some values not associated with any lables in the dataset description. For example, the marriage columns had some values that recorded as 5 or 6 even though such numbers had no significance. Any such values were replaced with the number corresponding to the \"other\" columns.\n",
    "\n",
    "3. Additionally, being that the sex, marriage, and age columns are all categorical features - we decided to create dummy variables for each of their features.\n",
    "\n",
    "The code below implements the above cleaning."
   ]
  },
  {
   "cell_type": "code",
   "execution_count": 5,
   "id": "46f73626",
   "metadata": {},
   "outputs": [],
   "source": [
    "#Fixing Column Headings\n",
    "data= data.set_axis(data.iloc[0], axis=1)\n",
    "data = data.drop(data.index[0])"
   ]
  },
  {
   "cell_type": "code",
   "execution_count": 6,
   "id": "ee43ee66",
   "metadata": {},
   "outputs": [],
   "source": [
    "## Dropping ID since it will not be used in the analysis\n",
    "data.drop(columns=['ID'], inplace=True)"
   ]
  },
  {
   "cell_type": "code",
   "execution_count": 10,
   "id": "6c72473a",
   "metadata": {},
   "outputs": [],
   "source": [
    "## Making Columns Lowercase\n",
    "data.columns = data.columns.str.lower()"
   ]
  },
  {
   "cell_type": "code",
   "execution_count": 11,
   "id": "7deb2a8b",
   "metadata": {},
   "outputs": [],
   "source": [
    "## Renaming Columns for Clarity\n",
    "new_names = {'pay_0': 'repay_status_sept', 'pay_2': 'repay_status_aug', 'pay_3': 'repay_status_jul', \n",
    "             'pay_4': 'repay_status_jun', 'pay_5': 'repay_status_may', 'pay_6': 'repay_status_apr',\n",
    "            'bill_amt1': 'bill_sept', 'bill_amt2': 'bill_aug', 'bill_amt3': 'bill_jul', 'bill_amt4': 'bill_jun',\n",
    "            'bill_amt5': 'bill_may', 'bill_amt6': 'bill_apr', 'pay_amt1': 'pay_amt_sept', 'pay_amt2': 'pay_amt_aug',\n",
    "            'pay_amt3': 'pay_amt_jul', 'pay_amt4': 'pay_amt_jun', 'pay_amt5': 'pay_amt_may', 'pay_amt6': 'pay_amt_apr',\n",
    "            'default payment next month': 'defaulted'}\n",
    "data.rename(columns=new_names, inplace=True)"
   ]
  },
  {
   "cell_type": "code",
   "execution_count": 12,
   "id": "d0dce9a2",
   "metadata": {},
   "outputs": [],
   "source": [
    "## Converting Columns from Object to Numeric:\n",
    "# Iterate over the columns in the DataFrame\n",
    "for column in data.columns:\n",
    "    # Check if the column can be converted to a float\n",
    "    if data[column].str.contains('\\.').any():\n",
    "        # If the column contains decimal points, convert it to a float\n",
    "        data[column] = data[column].astype(float)\n",
    "    else:\n",
    "        # If the column does not contain decimal points, convert it to an integer\n",
    "        data[column] = data[column].astype(int)"
   ]
  },
  {
   "cell_type": "code",
   "execution_count": 13,
   "id": "d4a4e579",
   "metadata": {},
   "outputs": [],
   "source": [
    "## Copying dataset to retain progress\n",
    "X = data.copy()"
   ]
  },
  {
   "cell_type": "code",
   "execution_count": 14,
   "id": "eddecc5e",
   "metadata": {},
   "outputs": [],
   "source": [
    "## Combining Education Values 0, 5, and 6 to 4 which is classified as other\n",
    "## 0,5,6 are not mentioned in dataset description\n",
    "X['education'] = X['education'].replace({5: 4, 6: 4, 0: 4})"
   ]
  },
  {
   "cell_type": "code",
   "execution_count": 15,
   "id": "7feb773b",
   "metadata": {},
   "outputs": [],
   "source": [
    "## Combining Marriage Value 0 with 3 which is classified as other\n",
    "## 0 is not mentioned as a value in the dataset description that relates to a marriage category\n",
    "X['marriage'] = X['marriage'].replace({0: 3})"
   ]
  },
  {
   "cell_type": "code",
   "execution_count": 16,
   "id": "df16a002",
   "metadata": {},
   "outputs": [],
   "source": [
    "## Encoding education, marriage, and sex since they are unordered nominal features\n",
    "education_onehot = pd.get_dummies(X['education'], prefix='education')\n",
    "\n",
    "# Rename the education columns with the corresponding education levels\n",
    "education_levels = {\n",
    "    'education_1': 'graduate_school',\n",
    "    'education_2': 'university',\n",
    "    'education_3': 'high_school',\n",
    "    'education_4': 'others_education'\n",
    "}\n",
    "education_onehot = education_onehot.rename(columns=education_levels)\n",
    "\n",
    "# Concatenate the one-hot encoded columns with the original DataFrame\n",
    "X = pd.concat([X, education_onehot], axis=1)\n",
    "\n",
    "# Remove the original \"education\" column\n",
    "X = X.drop(['education'], axis=1)\n",
    "\n",
    "marriage_onehot = pd.get_dummies(X['marriage'], prefix='marriage')\n",
    "\n",
    "# Rename the marriage columns with the corresponding marital statuses\n",
    "marital_statuses = {\n",
    "    'marriage_1': 'married',\n",
    "    'marriage_2': 'single',\n",
    "    'marriage_3': 'others_married'\n",
    "}\n",
    "marriage_onehot = marriage_onehot.rename(columns=marital_statuses)\n",
    "\n",
    "# Concatenate the one-hot encoded columns with the original DataFrame\n",
    "X = pd.concat([X, marriage_onehot], axis=1)\n",
    "\n",
    "# Remove the original \"marriage\" column\n",
    "X = X.drop(['marriage'], axis=1)\n",
    "\n",
    "sex_onehot = pd.get_dummies(X['sex'],prefix='sex')\n",
    "sex_status = {\n",
    "    'sex_1': 'sex_male',\n",
    "    'sex_2': 'sex_female'\n",
    "}\n",
    "sex_onehot = sex_onehot.rename(columns=sex_status)\n",
    "X = pd.concat([X, sex_onehot], axis=1)\n",
    "X = X.drop(['sex'],axis=1)"
   ]
  },
  {
   "cell_type": "markdown",
   "id": "9b91a14e",
   "metadata": {},
   "source": [
    "### Data preparation\n",
    "*Davis Johnson*\n",
    "\n",
    "The following data preparation steps helped us to prepare our data for implementing various modeling / validation techniques:\n",
    "\n",
    "1. Since we will be conducting stepwise selection, one dummy level of each categorical variable was dropped to avoid issues of perfect collinearity. \n",
    "\n",
    "2. Since the \"bill_month\" columns have problematic VIF values, we decided to conduct some feature enginnering by creating a new predicot called \"avg_bill_per_month\" which represents the average credit card bill of each person over this six month time span. The individual \"bill_month\" columns were then dropped.\n",
    "\n",
    "3. We split the dataset into a training set and testing set.\n",
    "\n",
    "4. We have created a standardized version of the test/train datasets, as we will use it to develop Lasso regression models."
   ]
  },
  {
   "cell_type": "code",
   "execution_count": 17,
   "id": "77b2b85a",
   "metadata": {},
   "outputs": [],
   "source": [
    "## Dropping one dummy level of each categorical column to avoid issues of collinearity\n",
    "X = X.drop(['sex_female'],axis=1)\n",
    "X = X.drop(['single'],axis=1)\n",
    "X = X.drop(['graduate_school'],axis=1)"
   ]
  },
  {
   "cell_type": "code",
   "execution_count": 18,
   "id": "e4e04063",
   "metadata": {},
   "outputs": [],
   "source": [
    "### Feature Engineering \n",
    "\n",
    "## Creating new column that represents the average credit card bill of a person over this six month span\n",
    "X['avg_bill_per_month'] = (X['bill_apr']+X['bill_may']+X['bill_jun']+X['bill_jul']+X['bill_aug']+X['bill_sept'])/6\n",
    "\n",
    "## Dropping old columns\n",
    "X = X.drop(['bill_apr'],axis=1)\n",
    "X = X.drop(['bill_may'],axis=1)\n",
    "X = X.drop(['bill_jun'],axis=1)\n",
    "X = X.drop(['bill_jul'],axis=1)\n",
    "X = X.drop(['bill_aug'],axis=1)\n",
    "X = X.drop(['bill_sept'],axis=1)"
   ]
  },
  {
   "cell_type": "code",
   "execution_count": 28,
   "id": "730a31db",
   "metadata": {},
   "outputs": [],
   "source": [
    "from sklearn.model_selection import train_test_split\n",
    "\n",
    "# Split the dataset into features (X) and target variable (y)\n",
    "X1 = X.drop('defaulted', axis=1)\n",
    "y1 = X['defaulted']\n",
    "\n",
    "# Split the dataset into training and testing subsets\n",
    "X_train, X_test, y_train, y_test = train_test_split(X1, y1, test_size=0.20, random_state=42)"
   ]
  },
  {
   "cell_type": "code",
   "execution_count": 29,
   "id": "1850dd7b",
   "metadata": {},
   "outputs": [],
   "source": [
    "## Re-adding defaulted column to train and test datasets\n",
    "X_train['defaulted'] = y_train\n",
    "X_test['defaulted'] = y_test"
   ]
  },
  {
   "cell_type": "code",
   "execution_count": 30,
   "id": "d31ef58c",
   "metadata": {},
   "outputs": [],
   "source": [
    "## Creating set of predictors to be used for stepwise selection\n",
    "Xt = X_train.drop('defaulted',axis=1)"
   ]
  },
  {
   "cell_type": "code",
   "execution_count": 31,
   "id": "2cecc4d7",
   "metadata": {},
   "outputs": [],
   "source": [
    "######-----Standardizing the datasets for Lasso-------#########\n",
    "#applying a standard scaler to the data to give values more equal weight between columns\n",
    "X_train_std = X_train.drop('defaulted',axis=1)\n",
    "X_test_std = X_test.drop('defaulted',axis=1)\n",
    "from sklearn.preprocessing import StandardScaler\n",
    "scaler = StandardScaler()\n",
    "X_train_std = pd.DataFrame(scaler.fit_transform(X_train_std), columns=X_train_std.columns)\n",
    "X_test_std = pd.DataFrame(scaler.fit_transform(X_test_std), columns=X_test_std.columns)"
   ]
  },
  {
   "cell_type": "code",
   "execution_count": 32,
   "id": "fe4a8e2a",
   "metadata": {},
   "outputs": [],
   "source": [
    "## Re-adding non standardized defaulted column to the standardized datasets\n",
    "X_train_std['defaulted'] = X_train['defaulted']\n",
    "X_test_std['defaulted'] = X_test['defaulted']"
   ]
  },
  {
   "cell_type": "markdown",
   "id": "fbb11c9b",
   "metadata": {},
   "source": [
    "## Exploratory data analysis\n",
    "*Davis Johnson*"
   ]
  },
  {
   "cell_type": "markdown",
   "id": "e4bd74a9",
   "metadata": {},
   "source": [
    "1. We first ran a DecisionTreeClassifier algorithm to determine an initial idea of potential important predictors.\n",
    "2. We then created several boxplots (for cont. variables) and countplots (for cat. variables) to visualize any potential differences in the distributions for these variables belonging to each class. Only relevant plots were included in this section."
   ]
  },
  {
   "cell_type": "code",
   "execution_count": 19,
   "id": "293724b0",
   "metadata": {},
   "outputs": [
    {
     "data": {
      "text/plain": [
       "DecisionTreeClassifier(criterion='entropy', max_depth=10, random_state=42)"
      ]
     },
     "execution_count": 19,
     "metadata": {},
     "output_type": "execute_result"
    }
   ],
   "source": [
    "## Implementing a Decision Tree Classifier to get an Idea of Important Features\n",
    "Xf = X.drop('defaulted', axis=1).values\n",
    "yf = X['defaulted']\n",
    "yf = yf.astype(int)\n",
    "\n",
    "## Tree-Based estimators\n",
    "from sklearn.tree import DecisionTreeClassifier\n",
    "dt = DecisionTreeClassifier(random_state=42,criterion='entropy',max_depth=10)\n",
    "dt.fit(Xf,yf)"
   ]
  },
  {
   "cell_type": "code",
   "execution_count": 20,
   "id": "677c361b",
   "metadata": {},
   "outputs": [],
   "source": [
    "##Running Feature Importance\n",
    "fi_col = []\n",
    "fi = []\n",
    "for i,column in enumerate(X.drop('defaulted',axis=1)):\n",
    "    fi_col.append(column)\n",
    "    fi.append(dt.feature_importances_[i])"
   ]
  },
  {
   "cell_type": "code",
   "execution_count": 21,
   "id": "810aa33e",
   "metadata": {},
   "outputs": [
    {
     "data": {
      "text/html": [
       "<div>\n",
       "<style scoped>\n",
       "    .dataframe tbody tr th:only-of-type {\n",
       "        vertical-align: middle;\n",
       "    }\n",
       "\n",
       "    .dataframe tbody tr th {\n",
       "        vertical-align: top;\n",
       "    }\n",
       "\n",
       "    .dataframe thead th {\n",
       "        text-align: right;\n",
       "    }\n",
       "</style>\n",
       "<table border=\"1\" class=\"dataframe\">\n",
       "  <thead>\n",
       "    <tr style=\"text-align: right;\">\n",
       "      <th></th>\n",
       "      <th>index</th>\n",
       "      <th>Feature</th>\n",
       "      <th>Feature Importance</th>\n",
       "    </tr>\n",
       "  </thead>\n",
       "  <tbody>\n",
       "    <tr>\n",
       "      <th>0</th>\n",
       "      <td>2</td>\n",
       "      <td>repay_status_sept</td>\n",
       "      <td>0.453081</td>\n",
       "    </tr>\n",
       "    <tr>\n",
       "      <th>1</th>\n",
       "      <td>3</td>\n",
       "      <td>repay_status_aug</td>\n",
       "      <td>0.110781</td>\n",
       "    </tr>\n",
       "    <tr>\n",
       "      <th>2</th>\n",
       "      <td>20</td>\n",
       "      <td>avg_bill_per_month</td>\n",
       "      <td>0.072723</td>\n",
       "    </tr>\n",
       "    <tr>\n",
       "      <th>3</th>\n",
       "      <td>10</td>\n",
       "      <td>pay_amt_jul</td>\n",
       "      <td>0.068021</td>\n",
       "    </tr>\n",
       "    <tr>\n",
       "      <th>4</th>\n",
       "      <td>0</td>\n",
       "      <td>limit_bal</td>\n",
       "      <td>0.051043</td>\n",
       "    </tr>\n",
       "    <tr>\n",
       "      <th>5</th>\n",
       "      <td>1</td>\n",
       "      <td>age</td>\n",
       "      <td>0.040258</td>\n",
       "    </tr>\n",
       "    <tr>\n",
       "      <th>6</th>\n",
       "      <td>9</td>\n",
       "      <td>pay_amt_aug</td>\n",
       "      <td>0.033436</td>\n",
       "    </tr>\n",
       "    <tr>\n",
       "      <th>7</th>\n",
       "      <td>8</td>\n",
       "      <td>pay_amt_sept</td>\n",
       "      <td>0.030310</td>\n",
       "    </tr>\n",
       "    <tr>\n",
       "      <th>8</th>\n",
       "      <td>12</td>\n",
       "      <td>pay_amt_may</td>\n",
       "      <td>0.022520</td>\n",
       "    </tr>\n",
       "    <tr>\n",
       "      <th>9</th>\n",
       "      <td>11</td>\n",
       "      <td>pay_amt_jun</td>\n",
       "      <td>0.020907</td>\n",
       "    </tr>\n",
       "    <tr>\n",
       "      <th>10</th>\n",
       "      <td>6</td>\n",
       "      <td>repay_status_may</td>\n",
       "      <td>0.019036</td>\n",
       "    </tr>\n",
       "    <tr>\n",
       "      <th>11</th>\n",
       "      <td>13</td>\n",
       "      <td>pay_amt_apr</td>\n",
       "      <td>0.016611</td>\n",
       "    </tr>\n",
       "    <tr>\n",
       "      <th>12</th>\n",
       "      <td>7</td>\n",
       "      <td>repay_status_apr</td>\n",
       "      <td>0.015876</td>\n",
       "    </tr>\n",
       "    <tr>\n",
       "      <th>13</th>\n",
       "      <td>5</td>\n",
       "      <td>repay_status_jun</td>\n",
       "      <td>0.012485</td>\n",
       "    </tr>\n",
       "    <tr>\n",
       "      <th>14</th>\n",
       "      <td>4</td>\n",
       "      <td>repay_status_jul</td>\n",
       "      <td>0.011939</td>\n",
       "    </tr>\n",
       "    <tr>\n",
       "      <th>15</th>\n",
       "      <td>17</td>\n",
       "      <td>married</td>\n",
       "      <td>0.005153</td>\n",
       "    </tr>\n",
       "    <tr>\n",
       "      <th>16</th>\n",
       "      <td>16</td>\n",
       "      <td>others_education</td>\n",
       "      <td>0.004238</td>\n",
       "    </tr>\n",
       "    <tr>\n",
       "      <th>17</th>\n",
       "      <td>19</td>\n",
       "      <td>sex_male</td>\n",
       "      <td>0.003586</td>\n",
       "    </tr>\n",
       "    <tr>\n",
       "      <th>18</th>\n",
       "      <td>15</td>\n",
       "      <td>high_school</td>\n",
       "      <td>0.003545</td>\n",
       "    </tr>\n",
       "    <tr>\n",
       "      <th>19</th>\n",
       "      <td>14</td>\n",
       "      <td>university</td>\n",
       "      <td>0.003095</td>\n",
       "    </tr>\n",
       "    <tr>\n",
       "      <th>20</th>\n",
       "      <td>18</td>\n",
       "      <td>others_married</td>\n",
       "      <td>0.001356</td>\n",
       "    </tr>\n",
       "  </tbody>\n",
       "</table>\n",
       "</div>"
      ],
      "text/plain": [
       "    index             Feature  Feature Importance\n",
       "0       2   repay_status_sept            0.453081\n",
       "1       3    repay_status_aug            0.110781\n",
       "2      20  avg_bill_per_month            0.072723\n",
       "3      10         pay_amt_jul            0.068021\n",
       "4       0           limit_bal            0.051043\n",
       "5       1                 age            0.040258\n",
       "6       9         pay_amt_aug            0.033436\n",
       "7       8        pay_amt_sept            0.030310\n",
       "8      12         pay_amt_may            0.022520\n",
       "9      11         pay_amt_jun            0.020907\n",
       "10      6    repay_status_may            0.019036\n",
       "11     13         pay_amt_apr            0.016611\n",
       "12      7    repay_status_apr            0.015876\n",
       "13      5    repay_status_jun            0.012485\n",
       "14      4    repay_status_jul            0.011939\n",
       "15     17             married            0.005153\n",
       "16     16    others_education            0.004238\n",
       "17     19            sex_male            0.003586\n",
       "18     15         high_school            0.003545\n",
       "19     14          university            0.003095\n",
       "20     18      others_married            0.001356"
      ]
     },
     "execution_count": 21,
     "metadata": {},
     "output_type": "execute_result"
    }
   ],
   "source": [
    "## Creating a dataframe\n",
    "fi_df = zip(fi_col,fi)\n",
    "fi_df = pd.DataFrame(fi_df,columns=['Feature','Feature Importance'])\n",
    "fi_df.sort_values('Feature Importance',ascending=False).reset_index()"
   ]
  },
  {
   "cell_type": "markdown",
   "id": "71ad2e64",
   "metadata": {},
   "source": [
    "**Based on this algorithm, the most recent repayment statuses are important in determining the probability of someone defaulting on their credit card payments in October.**"
   ]
  },
  {
   "cell_type": "code",
   "execution_count": 23,
   "id": "748d22c4",
   "metadata": {},
   "outputs": [
    {
     "data": {
      "text/plain": [
       "<AxesSubplot:xlabel='defaulted', ylabel='limit_bal'>"
      ]
     },
     "execution_count": 23,
     "metadata": {},
     "output_type": "execute_result"
    },
    {
     "data": {
      "image/png": "[encoded data removed]",
      "text/plain": [
       "<Figure size 432x288 with 1 Axes>"
      ]
     },
     "metadata": {
      "needs_background": "light"
     },
     "output_type": "display_data"
    }
   ],
   "source": [
    "## Boxplot analyzing distribution of limit balance values for people who didn't and did default\n",
    "sns.boxplot(x=\"defaulted\", y=\"limit_bal\", data=X)"
   ]
  },
  {
   "cell_type": "code",
   "execution_count": 24,
   "id": "618b0b7f",
   "metadata": {},
   "outputs": [
    {
     "data": {
      "text/plain": [
       "<AxesSubplot:xlabel='defaulted', ylabel='repay_status_sept'>"
      ]
     },
     "execution_count": 24,
     "metadata": {},
     "output_type": "execute_result"
    },
    {
     "data": {
      "image/png": "[encoded data removed]",
      "text/plain": [
       "<Figure size 432x288 with 1 Axes>"
      ]
     },
     "metadata": {
      "needs_background": "light"
     },
     "output_type": "display_data"
    }
   ],
   "source": [
    "## Boxplot analyzing distribution of repayment statuses in September for people who didn't and did default\n",
    "sns.boxplot(x=\"defaulted\", y=\"repay_status_sept\", data=X)"
   ]
  },
  {
   "cell_type": "code",
   "execution_count": 25,
   "id": "6c329cc8",
   "metadata": {},
   "outputs": [
    {
     "data": {
      "text/plain": [
       "<AxesSubplot:xlabel='defaulted', ylabel='repay_status_aug'>"
      ]
     },
     "execution_count": 25,
     "metadata": {},
     "output_type": "execute_result"
    },
    {
     "data": {
      "image/png": "[encoded data removed]",
      "text/plain": [
       "<Figure size 432x288 with 1 Axes>"
      ]
     },
     "metadata": {
      "needs_background": "light"
     },
     "output_type": "display_data"
    }
   ],
   "source": [
    "## Boxplot analyzing distribution of repayment statuses in August for people who didn't and did default\n",
    "sns.boxplot(x=\"defaulted\", y=\"repay_status_aug\", data=X)"
   ]
  },
  {
   "cell_type": "code",
   "execution_count": 26,
   "id": "ffa9041c",
   "metadata": {},
   "outputs": [
    {
     "data": {
      "text/plain": [
       "<AxesSubplot:xlabel='defaulted', ylabel='repay_status_jul'>"
      ]
     },
     "execution_count": 26,
     "metadata": {},
     "output_type": "execute_result"
    },
    {
     "data": {
      "image/png": "[encoded data removed]",
      "text/plain": [
       "<Figure size 432x288 with 1 Axes>"
      ]
     },
     "metadata": {
      "needs_background": "light"
     },
     "output_type": "display_data"
    }
   ],
   "source": [
    "## Boxplot analyzing distribution of repayment statuses in July for people who didn't and did default\n",
    "sns.boxplot(x=\"defaulted\", y=\"repay_status_jul\", data=X)"
   ]
  },
  {
   "cell_type": "code",
   "execution_count": 27,
   "id": "cd76781b",
   "metadata": {},
   "outputs": [
    {
     "data": {
      "text/plain": [
       "<AxesSubplot:xlabel='defaulted', ylabel='repay_status_jun'>"
      ]
     },
     "execution_count": 27,
     "metadata": {},
     "output_type": "execute_result"
    },
    {
     "data": {
      "image/png": "[encoded data removed]",
      "text/plain": [
       "<Figure size 432x288 with 1 Axes>"
      ]
     },
     "metadata": {
      "needs_background": "light"
     },
     "output_type": "display_data"
    }
   ],
   "source": [
    "## Boxplot analyzing distribution of repayment statuses in June for people who didn't and did default\n",
    "sns.boxplot(x=\"defaulted\", y=\"repay_status_jun\", data=X)"
   ]
  },
  {
   "cell_type": "markdown",
   "id": "fe0db57c",
   "metadata": {},
   "source": [
    "**I only included the notable graphs in this report. There seems to a be general difference in the distribution of repayment statuses in many months between people who did and did not default, with people who have defaulted being generally more behind on their payments.**"
   ]
  },
  {
   "cell_type": "markdown",
   "id": "acab331a",
   "metadata": {},
   "source": [
    "## Developing the model"
   ]
  },
  {
   "cell_type": "markdown",
   "id": "ae5ec4c9",
   "metadata": {},
   "source": [
    "Put code with comments. The comments should explain the code such that it can be easily understood. You may put text *(in a markdown cell)* before a large chunk of code to explain the overall purpose of the code, if it is not intuitive. **Put the name of the person / persons who contributed to each code chunk / set of code chunks.**"
   ]
  },
  {
   "cell_type": "markdown",
   "id": "6444e611",
   "metadata": {},
   "source": [
    "### Code fitting the final model"
   ]
  },
  {
   "cell_type": "markdown",
   "id": "f6cae72f",
   "metadata": {},
   "source": [
    "Put the code(s) that fit the final model(s) in separate cell(s), i.e., the code with the `.ols()` or `.logit()` functions."
   ]
  },
  {
   "cell_type": "markdown",
   "id": "62a185cb",
   "metadata": {},
   "source": [
    "## Conclusions and Recommendations to stakeholder(s)\n",
    "\n",
    "You may or may not have code to put in this section. Delete this section if it is irrelevant."
   ]
  }
 ],
 "metadata": {
  "kernelspec": {
   "display_name": "Python 3 (ipykernel)",
   "language": "python",
   "name": "python3"
  },
  "language_info": {
   "codemirror_mode": {
    "name": "ipython",
    "version": 3
   },
   "file_extension": ".py",
   "mimetype": "text/x-python",
   "name": "python",
   "nbconvert_exporter": "python",
   "pygments_lexer": "ipython3",
   "version": "3.7.4"
  }
 },
 "nbformat": 4,
 "nbformat_minor": 5
}
